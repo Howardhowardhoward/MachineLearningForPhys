{
  "cells": [
    {
      "cell_type": "markdown",
      "id": "93b55261-c68d-427f-98fa-13c0e12beeac",
      "metadata": {
        "id": "93b55261-c68d-427f-98fa-13c0e12beeac"
      },
      "source": [
        "# CNN autoencoder: training and visualization\n",
        "## Tutor: Pavlo Bilous (MPL)"
      ]
    },
    {
      "cell_type": "markdown",
      "id": "9cc16f0a-60a2-41bd-ac34-564621efe2d6",
      "metadata": {
        "id": "9cc16f0a-60a2-41bd-ac34-564621efe2d6"
      },
      "source": [
        "[![Open In Colab](https://colab.research.google.com/assets/colab-badge.svg)](https://colab.research.google.com/github/FlorianMarquardt/machine-learning-for-physicists/blob/master/2024/04_tutorial_cnn_visual.ipynb)"
      ]
    },
    {
      "cell_type": "markdown",
      "id": "14a6f6a5-3408-4114-ae1e-9dfe7ea490b0",
      "metadata": {
        "id": "14a6f6a5-3408-4114-ae1e-9dfe7ea490b0"
      },
      "source": [
        "## 0. Imports"
      ]
    },
    {
      "cell_type": "code",
      "execution_count": 1,
      "id": "eda4f0e6-079d-47a6-a438-0f0d02a442b1",
      "metadata": {
        "id": "eda4f0e6-079d-47a6-a438-0f0d02a442b1"
      },
      "outputs": [],
      "source": [
        "import jax\n",
        "import jax.numpy as jnp\n",
        "\n",
        "import matplotlib.pyplot as plt"
      ]
    },
    {
      "cell_type": "markdown",
      "id": "b392741d-a7c5-432d-a9b3-815d5c8b8e34",
      "metadata": {
        "id": "b392741d-a7c5-432d-a9b3-815d5c8b8e34"
      },
      "source": [
        "## 1. What are our images\n",
        "\n",
        "Image 64 x 64 shows a square covering coordinates (-1, 1) x (-1, 1)  \n",
        "with a circle of radius \"r\" centered at (xc, yc)"
      ]
    },
    {
      "cell_type": "markdown",
      "id": "a205add4-5646-4076-8f8b-ab3c5c11ca28",
      "metadata": {
        "id": "a205add4-5646-4076-8f8b-ab3c5c11ca28"
      },
      "source": [
        "### 1.a) Pixels (fixed once and forever):"
      ]
    },
    {
      "cell_type": "code",
      "execution_count": 2,
      "id": "896d5595-eda4-4cb6-9d51-0387def409fb",
      "metadata": {
        "id": "896d5595-eda4-4cb6-9d51-0387def409fb"
      },
      "outputs": [],
      "source": [
        "pix = 64\n",
        "\n",
        "x_edges = jnp.linspace(-1, 1, pix + 1)\n",
        "x_middles = (x_edges[1:] + x_edges[:-1]) / 2\n",
        "\n",
        "y_middles = x_middles\n",
        "\n",
        "xx, yy = jnp.meshgrid(x_middles, y_middles)"
      ]
    },
    {
      "cell_type": "markdown",
      "id": "3870d968-7ca1-48a9-a275-aad20da01f5f",
      "metadata": {
        "id": "3870d968-7ca1-48a9-a275-aad20da01f5f"
      },
      "source": [
        "### 1.b) Drawing circles:"
      ]
    },
    {
      "cell_type": "code",
      "execution_count": 3,
      "id": "b43ba058-9fd3-4c5e-96cf-d69fc0741f82",
      "metadata": {
        "id": "b43ba058-9fd3-4c5e-96cf-d69fc0741f82"
      },
      "outputs": [],
      "source": [
        "def draw_circle(r, xc, yc):\n",
        "    where_circle = (xx - xc)**2 + (yy - yc)**2 <= r**2\n",
        "    cc = where_circle.astype(float)\n",
        "    return cc"
      ]
    },
    {
      "cell_type": "code",
      "execution_count": 4,
      "id": "ae69f8c1-07b9-4eb9-bf8d-ad46f3b1b4c8",
      "metadata": {
        "id": "ae69f8c1-07b9-4eb9-bf8d-ad46f3b1b4c8"
      },
      "outputs": [],
      "source": [
        "cc = draw_circle(0.7, 0.2, 0.5)"
      ]
    },
    {
      "cell_type": "code",
      "execution_count": 5,
      "id": "e76cca0a-6d14-4348-a624-933647678b6c",
      "metadata": {
        "id": "e76cca0a-6d14-4348-a624-933647678b6c",
        "outputId": "6419ecfc-0f07-4cf8-8804-c3b0cb1d78f6",
        "colab": {
          "base_uri": "https://localhost:8080/",
          "height": 311
        }
      },
      "outputs": [
        {
          "output_type": "display_data",
          "data": {
            "text/plain": [
              "<Figure size 300x300 with 1 Axes>"
            ],
            "image/png": "[encoded data removed]"
          },
          "metadata": {}
        }
      ],
      "source": [
        "fig, ax = plt.subplots(figsize=(3, 3))\n",
        "ax.imshow(cc);\n",
        "plt.gca().invert_yaxis();\n",
        "ax.set_xlabel(\"Pixel index\");\n",
        "ax.set_ylabel(\"Pixel index\");"
      ]
    },
    {
      "cell_type": "markdown",
      "id": "1b693737-b85c-4136-9179-02aefb7709c2",
      "metadata": {
        "id": "1b693737-b85c-4136-9179-02aefb7709c2"
      },
      "source": [
        "## 2. Data generation"
      ]
    },
    {
      "cell_type": "markdown",
      "id": "b88395f2-a60a-40f4-881e-83889385a822",
      "metadata": {
        "id": "b88395f2-a60a-40f4-881e-83889385a822"
      },
      "source": [
        "1 batch = 32 images  \n",
        "with circles of random radius (between 0 and 1)  \n",
        "and with canters placed randomly in the square"
      ]
    },
    {
      "cell_type": "markdown",
      "id": "f0f96510-be63-4e23-8ae5-7c72451fea78",
      "metadata": {
        "id": "f0f96510-be63-4e23-8ae5-7c72451fea78"
      },
      "source": [
        "### 2.a) Batch creation:"
      ]
    },
    {
      "cell_type": "code",
      "execution_count": 6,
      "id": "4dac5247-c658-44af-ad3b-027295f6695e",
      "metadata": {
        "id": "4dac5247-c658-44af-ad3b-027295f6695e"
      },
      "outputs": [],
      "source": [
        "draw_circles = jax.vmap(draw_circle)"
      ]
    },
    {
      "cell_type": "code",
      "execution_count": 15,
      "id": "f7935f9c-2324-4c46-ba18-12e56d10e4eb",
      "metadata": {
        "id": "f7935f9c-2324-4c46-ba18-12e56d10e4eb"
      },
      "outputs": [],
      "source": [
        "def create_data_batch(key, batch_size=32):\n",
        "\n",
        "    key, subkey = jax.random.split(key)\n",
        "    xc = jax.random.uniform(subkey, shape=(batch_size,), minval=-1.0, maxval=1.0)\n",
        "\n",
        "    key, subkey = jax.random.split(key)\n",
        "    yc = jax.random.uniform(subkey, shape=(batch_size,), minval=-1.0, maxval=1.0)\n",
        "\n",
        "    key, subkey = jax.random.split(key)\n",
        "    r = jax.random.uniform(subkey, shape=(batch_size,), minval=0.0, maxval=1.0)\n",
        "\n",
        "    return draw_circles(r, xc, yc)"
      ]
    },
    {
      "cell_type": "code",
      "execution_count": 16,
      "id": "6f192b18-c0e9-46d2-a50b-52ef46f15161",
      "metadata": {
        "id": "6f192b18-c0e9-46d2-a50b-52ef46f15161"
      },
      "outputs": [],
      "source": [
        "key = jax.random.key(seed=1234)\n",
        "key, subkey = jax.random.split(key)\n",
        "\n",
        "data_batch = create_data_batch(subkey)"
      ]
    },
    {
      "cell_type": "markdown",
      "id": "4cc29788-8a33-4584-8d96-78ef60809aa3",
      "metadata": {
        "id": "4cc29788-8a33-4584-8d96-78ef60809aa3"
      },
      "source": [
        "### 2.b) Batch visualization"
      ]
    },
    {
      "cell_type": "code",
      "execution_count": 9,
      "id": "9a4c963f-bdaf-4573-b8db-ee99f8c2b010",
      "metadata": {
        "id": "9a4c963f-bdaf-4573-b8db-ee99f8c2b010"
      },
      "outputs": [],
      "source": [
        "def plot_images(data_batch, label, how_many=5):\n",
        "    print(f\">>> {label}:\")\n",
        "\n",
        "    fig, axes = plt.subplots(1, how_many, sharey=True, subplot_kw=dict(box_aspect=1))\n",
        "\n",
        "    for ax, cc in zip(axes, data_batch):\n",
        "        im = ax.imshow(cc);\n",
        "        ax.set_xticks([]);\n",
        "        ax.set_yticks([]);\n",
        "\n",
        "    fig.colorbar(im, ax=axes.ravel().tolist(), fraction=0.01, pad=0.04);\n",
        "\n",
        "    plt.gca().invert_yaxis();"
      ]
    },
    {
      "cell_type": "code",
      "execution_count": 17,
      "id": "c0892108-e16e-4a69-9891-cf7afde27675",
      "metadata": {
        "id": "c0892108-e16e-4a69-9891-cf7afde27675",
        "outputId": "639da2e1-ebf2-47cc-a336-d2d82078f5d7",
        "colab": {
          "base_uri": "https://localhost:8080/",
          "height": 167
        }
      },
      "outputs": [
        {
          "output_type": "stream",
          "name": "stdout",
          "text": [
            ">>> Batch example:\n"
          ]
        },
        {
          "output_type": "display_data",
          "data": {
            "text/plain": [
              "<Figure size 640x480 with 6 Axes>"
            ],
            "image/png": "[encoded data removed]"
          },
          "metadata": {}
        }
      ],
      "source": [
        "plot_images(data_batch, \"Batch example\", 5)"
      ]
    },
    {
      "cell_type": "markdown",
      "id": "272472c1-5bfa-42ac-a4f0-cadc7aca25a1",
      "metadata": {
        "id": "272472c1-5bfa-42ac-a4f0-cadc7aca25a1"
      },
      "source": [
        "### 2.c) Pack into a generator:"
      ]
    },
    {
      "cell_type": "code",
      "execution_count": 18,
      "id": "4c50a77a-904b-46cb-9215-ec47e0b1acc3",
      "metadata": {
        "id": "4c50a77a-904b-46cb-9215-ec47e0b1acc3"
      },
      "outputs": [],
      "source": [
        "def make_batch_generator(key):\n",
        "    while True:\n",
        "        key, subkey = jax.random.split(key)\n",
        "        data_batch = create_data_batch(subkey)\n",
        "        data_batch = data_batch[..., jnp.newaxis]\n",
        "        yield data_batch"
      ]
    },
    {
      "cell_type": "code",
      "execution_count": 19,
      "id": "ff91eb36-7a19-498d-bf77-bebe0281ae55",
      "metadata": {
        "id": "ff91eb36-7a19-498d-bf77-bebe0281ae55"
      },
      "outputs": [],
      "source": [
        "key = jax.random.key(seed=1234)\n",
        "batch_generator = make_batch_generator(key)"
      ]
    },
    {
      "cell_type": "code",
      "execution_count": 22,
      "id": "700dc697-2415-46f1-b9d2-39d23ec04e17",
      "metadata": {
        "id": "700dc697-2415-46f1-b9d2-39d23ec04e17",
        "outputId": "9e4b683c-b8ad-4d06-90e5-345be15d48e5",
        "colab": {
          "base_uri": "https://localhost:8080/",
          "height": 167
        }
      },
      "outputs": [
        {
          "output_type": "stream",
          "name": "stdout",
          "text": [
            ">>> Batch example:\n"
          ]
        },
        {
          "output_type": "display_data",
          "data": {
            "text/plain": [
              "<Figure size 640x480 with 6 Axes>"
            ],
            "image/png": "[encoded data removed]"
          },
          "metadata": {}
        }
      ],
      "source": [
        "data_batch = next(batch_generator)\n",
        "\n",
        "plot_images(data_batch, \"Batch example\")"
      ]
    },
    {
      "cell_type": "markdown",
      "id": "cd2af8db-f939-4953-a189-09fb734bed79",
      "metadata": {
        "id": "cd2af8db-f939-4953-a189-09fb734bed79"
      },
      "source": [
        "## 3. FLAX neural network"
      ]
    },
    {
      "cell_type": "code",
      "execution_count": 23,
      "id": "e82d0616-5af9-4734-9b5a-ca42e0a905a2",
      "metadata": {
        "id": "e82d0616-5af9-4734-9b5a-ca42e0a905a2"
      },
      "outputs": [],
      "source": [
        "import flax.linen as nn\n",
        "import optax\n",
        "from flax.training.train_state import TrainState"
      ]
    },
    {
      "cell_type": "markdown",
      "id": "41894aa1-b611-4d66-8a4a-14466ae7a50f",
      "metadata": {
        "id": "41894aa1-b611-4d66-8a4a-14466ae7a50f"
      },
      "source": [
        "### 3.a) Define and initialize model"
      ]
    },
    {
      "cell_type": "code",
      "execution_count": 24,
      "id": "1bca1bf8-33c7-46e3-9c0a-8be6c163cf14",
      "metadata": {
        "id": "1bca1bf8-33c7-46e3-9c0a-8be6c163cf14"
      },
      "outputs": [],
      "source": [
        "class MyConvModel(nn.Module):\n",
        "\n",
        "    @nn.compact\n",
        "    def __call__(self, x):\n",
        "        x = nn.Conv(10, (3, 3), padding='same')(x)\n",
        "        x = nn.sigmoid(x)\n",
        "        x = nn.Conv(1, (3, 3), padding='same')(x)\n",
        "        return x"
      ]
    },
    {
      "cell_type": "code",
      "execution_count": 25,
      "id": "5a16d004-cde7-4935-b87b-4c772fbfa11d",
      "metadata": {
        "id": "5a16d004-cde7-4935-b87b-4c772fbfa11d"
      },
      "outputs": [],
      "source": [
        "my_conv_model = MyConvModel()"
      ]
    },
    {
      "cell_type": "code",
      "execution_count": 26,
      "id": "b109d52d-2329-41f6-be29-fda355531b86",
      "metadata": {
        "id": "b109d52d-2329-41f6-be29-fda355531b86"
      },
      "outputs": [],
      "source": [
        "my_conv_model = MyConvModel()\n",
        "\n",
        "dummy_input = jnp.ones(shape=(pix, pix, 1))\n",
        "\n",
        "key, subkey = jax.random.split(key)\n",
        "params = my_conv_model.init(subkey, dummy_input)[\"params\"]"
      ]
    },
    {
      "cell_type": "code",
      "execution_count": 27,
      "id": "5ff62a52-4385-4a13-a354-277bb75f556d",
      "metadata": {
        "id": "5ff62a52-4385-4a13-a354-277bb75f556d",
        "outputId": "66befae2-0a71-4e3f-d1ed-7c2f188ec2d2",
        "colab": {
          "base_uri": "https://localhost:8080/"
        }
      },
      "outputs": [
        {
          "output_type": "stream",
          "name": "stdout",
          "text": [
            "\n",
            "\u001b[3m                              MyConvModel Summary                               \u001b[0m\n",
            "┏━━━━━━━━┳━━━━━━━━━━━━━┳━━━━━━━━━━━━━━━━━━┳━━━━━━━━━━━━━━━━━┳━━━━━━━━━━━━━━━━━━┓\n",
            "┃\u001b[1m \u001b[0m\u001b[1mpath  \u001b[0m\u001b[1m \u001b[0m┃\u001b[1m \u001b[0m\u001b[1mmodule     \u001b[0m\u001b[1m \u001b[0m┃\u001b[1m \u001b[0m\u001b[1minputs          \u001b[0m\u001b[1m \u001b[0m┃\u001b[1m \u001b[0m\u001b[1moutputs        \u001b[0m\u001b[1m \u001b[0m┃\u001b[1m \u001b[0m\u001b[1mparams          \u001b[0m\u001b[1m \u001b[0m┃\n",
            "┡━━━━━━━━╇━━━━━━━━━━━━━╇━━━━━━━━━━━━━━━━━━╇━━━━━━━━━━━━━━━━━╇━━━━━━━━━━━━━━━━━━┩\n",
            "│        │ MyConvModel │ \u001b[2mfloat32\u001b[0m[64,64,1] │ \u001b[2mfloat32\u001b[0m[64,64,1 │                  │\n",
            "│        │             │                  │ ]               │                  │\n",
            "├────────┼─────────────┼──────────────────┼─────────────────┼──────────────────┤\n",
            "│ Conv_0 │ Conv        │ \u001b[2mfloat32\u001b[0m[64,64,1] │ \u001b[2mfloat32\u001b[0m[64,64,1 │ bias:            │\n",
            "│        │             │                  │ 0]              │ \u001b[2mfloat32\u001b[0m[10]      │\n",
            "│        │             │                  │                 │ kernel:          │\n",
            "│        │             │                  │                 │ \u001b[2mfloat32\u001b[0m[3,3,1,10 │\n",
            "│        │             │                  │                 │ ]                │\n",
            "│        │             │                  │                 │                  │\n",
            "│        │             │                  │                 │ \u001b[1m100 \u001b[0m\u001b[1;2m(400 B)\u001b[0m      │\n",
            "├────────┼─────────────┼──────────────────┼─────────────────┼──────────────────┤\n",
            "│ Conv_1 │ Conv        │ \u001b[2mfloat32\u001b[0m[64,64,10 │ \u001b[2mfloat32\u001b[0m[64,64,1 │ bias: \u001b[2mfloat32\u001b[0m[1] │\n",
            "│        │             │ ]                │ ]               │ kernel:          │\n",
            "│        │             │                  │                 │ \u001b[2mfloat32\u001b[0m[3,3,10,1 │\n",
            "│        │             │                  │                 │ ]                │\n",
            "│        │             │                  │                 │                  │\n",
            "│        │             │                  │                 │ \u001b[1m91 \u001b[0m\u001b[1;2m(364 B)\u001b[0m       │\n",
            "├────────┼─────────────┼──────────────────┼─────────────────┼──────────────────┤\n",
            "│\u001b[1m \u001b[0m\u001b[1m      \u001b[0m\u001b[1m \u001b[0m│\u001b[1m \u001b[0m\u001b[1m           \u001b[0m\u001b[1m \u001b[0m│\u001b[1m \u001b[0m\u001b[1m                \u001b[0m\u001b[1m \u001b[0m│\u001b[1m \u001b[0m\u001b[1m          Total\u001b[0m\u001b[1m \u001b[0m│\u001b[1m \u001b[0m\u001b[1m191 \u001b[0m\u001b[1;2m(764 B)\u001b[0m\u001b[1m     \u001b[0m\u001b[1m \u001b[0m│\n",
            "└────────┴─────────────┴──────────────────┴─────────────────┴──────────────────┘\n",
            "\u001b[1m                                                                                \u001b[0m\n",
            "\u001b[1m                         Total Parameters: 191 \u001b[0m\u001b[1;2m(764 B)\u001b[0m\u001b[1m                          \u001b[0m\n",
            "\n",
            "\n"
          ]
        }
      ],
      "source": [
        "column_params = dict(overflow=\"fold\")\n",
        "\n",
        "table = my_conv_model.tabulate(jax.random.key(0), dummy_input, column_kwargs=column_params)\n",
        "\n",
        "print( table )"
      ]
    },
    {
      "cell_type": "markdown",
      "id": "6ebbc24f-3fc6-4075-af2f-538da9fa57fc",
      "metadata": {
        "id": "6ebbc24f-3fc6-4075-af2f-538da9fa57fc"
      },
      "source": [
        "### 3.b) Create optimizer"
      ]
    },
    {
      "cell_type": "code",
      "execution_count": 28,
      "id": "915fcf72-15aa-4546-87ed-b2ac7e6d0a53",
      "metadata": {
        "id": "915fcf72-15aa-4546-87ed-b2ac7e6d0a53"
      },
      "outputs": [],
      "source": [
        "optimizer = optax.adam(learning_rate=0.005)"
      ]
    },
    {
      "cell_type": "markdown",
      "id": "ae957661-4fbf-4d8b-bec7-beb2b24b8f05",
      "metadata": {
        "id": "ae957661-4fbf-4d8b-bec7-beb2b24b8f05"
      },
      "source": [
        "### 3.c) Bundle all together in one \"state\""
      ]
    },
    {
      "cell_type": "code",
      "execution_count": 29,
      "id": "ba6e8d17-df82-4446-a428-c8d7b8d28787",
      "metadata": {
        "id": "ba6e8d17-df82-4446-a428-c8d7b8d28787"
      },
      "outputs": [],
      "source": [
        "state = TrainState.create(apply_fn=my_conv_model.apply, params=params, tx=optimizer)"
      ]
    },
    {
      "cell_type": "markdown",
      "id": "3f22e9be-e133-4099-a4a2-da1ab876ca30",
      "metadata": {
        "id": "3f22e9be-e133-4099-a4a2-da1ab876ca30"
      },
      "source": [
        "### 3.d) Write training / prediction functions"
      ]
    },
    {
      "cell_type": "code",
      "execution_count": 30,
      "id": "c9159710-3231-4c40-9377-4c8b8e3630da",
      "metadata": {
        "id": "c9159710-3231-4c40-9377-4c8b8e3630da"
      },
      "outputs": [],
      "source": [
        "def predict_on_batch(state, X):\n",
        "    return state.apply_fn({'params': state.params}, X)"
      ]
    },
    {
      "cell_type": "code",
      "execution_count": 31,
      "id": "6cab454a-33dc-432a-894b-cf5ec7008cce",
      "metadata": {
        "id": "6cab454a-33dc-432a-894b-cf5ec7008cce"
      },
      "outputs": [],
      "source": [
        "@jax.jit\n",
        "def train_on_batch(state, X, y):\n",
        "\n",
        "    def loss_fn(params):\n",
        "        y_pred = state.apply_fn({'params': params}, X)\n",
        "        sq_dev = (y_pred - y)**2\n",
        "        mean_sq_dev = sq_dev.mean()\n",
        "        return mean_sq_dev\n",
        "\n",
        "    val_and_grad_fn = jax.value_and_grad(loss_fn)\n",
        "    loss, grads = val_and_grad_fn(state.params)\n",
        "    state = state.apply_gradients(grads=grads)\n",
        "    return loss, state"
      ]
    },
    {
      "cell_type": "markdown",
      "id": "511cf0c8-0e09-43be-b1c8-e2ee2b54df51",
      "metadata": {
        "id": "511cf0c8-0e09-43be-b1c8-e2ee2b54df51"
      },
      "source": [
        "## 4. Try it out"
      ]
    },
    {
      "cell_type": "markdown",
      "id": "2785a5fd-dd86-4582-ab57-0252d4843834",
      "metadata": {
        "id": "2785a5fd-dd86-4582-ab57-0252d4843834"
      },
      "source": [
        "### 4.a) Prediction by untrained NN"
      ]
    },
    {
      "cell_type": "code",
      "execution_count": 38,
      "id": "b1cdab78-4564-40e6-8e41-45de79dc4da9",
      "metadata": {
        "id": "b1cdab78-4564-40e6-8e41-45de79dc4da9"
      },
      "outputs": [],
      "source": [
        "X = next(batch_generator)\n",
        "y_true = X"
      ]
    },
    {
      "cell_type": "code",
      "execution_count": 39,
      "id": "11bcfcc2-33da-4290-b5b5-c432cde838f4",
      "metadata": {
        "id": "11bcfcc2-33da-4290-b5b5-c432cde838f4"
      },
      "outputs": [],
      "source": [
        "y_predicted = predict_on_batch(state, X)"
      ]
    },
    {
      "cell_type": "code",
      "execution_count": 40,
      "id": "9eb80c95-0cc7-4c46-b373-65f7d0c75dd7",
      "metadata": {
        "id": "9eb80c95-0cc7-4c46-b373-65f7d0c75dd7",
        "outputId": "88fe7111-2c35-4ae2-f853-f69f9b3b8ab2",
        "colab": {
          "base_uri": "https://localhost:8080/",
          "height": 167
        }
      },
      "outputs": [
        {
          "output_type": "stream",
          "name": "stdout",
          "text": [
            ">>> True images:\n"
          ]
        },
        {
          "output_type": "display_data",
          "data": {
            "text/plain": [
              "<Figure size 640x480 with 6 Axes>"
            ],
            "image/png": "[encoded data removed]"
          },
          "metadata": {}
        }
      ],
      "source": [
        "plot_images(y_true, \"True images\")"
      ]
    },
    {
      "cell_type": "code",
      "execution_count": 41,
      "id": "8de2a983-715d-40e7-85c7-24f23810ffe3",
      "metadata": {
        "id": "8de2a983-715d-40e7-85c7-24f23810ffe3",
        "outputId": "5b35fa6e-6a91-471b-d4e1-89e4b8fb6fbe",
        "colab": {
          "base_uri": "https://localhost:8080/",
          "height": 153
        }
      },
      "outputs": [
        {
          "output_type": "stream",
          "name": "stdout",
          "text": [
            ">>> Predicted images (untrained):\n"
          ]
        },
        {
          "output_type": "display_data",
          "data": {
            "text/plain": [
              "<Figure size 640x480 with 6 Axes>"
            ],
            "image/png": "[encoded data removed]"
          },
          "metadata": {}
        }
      ],
      "source": [
        "plot_images(y_predicted, \"Predicted images (untrained)\")"
      ]
    },
    {
      "cell_type": "markdown",
      "id": "6952d20e-cf8a-4824-aae7-697b54c545cb",
      "metadata": {
        "id": "6952d20e-cf8a-4824-aae7-697b54c545cb"
      },
      "source": [
        "### 4.b) Training"
      ]
    },
    {
      "cell_type": "code",
      "execution_count": 42,
      "id": "ae48d2f1-6bee-45b8-86b7-300dc8b27d52",
      "metadata": {
        "id": "ae48d2f1-6bee-45b8-86b7-300dc8b27d52",
        "outputId": "ee1367aa-7974-42e5-83a6-a33ef90e2357",
        "colab": {
          "base_uri": "https://localhost:8080/"
        }
      },
      "outputs": [
        {
          "output_type": "stream",
          "name": "stdout",
          "text": [
            "Batch: 10\tloss = 5.650e-02\n",
            "Batch: 20\tloss = 1.069e-02\n",
            "Batch: 30\tloss = 1.067e-02\n",
            "Batch: 40\tloss = 7.623e-03\n",
            "Batch: 50\tloss = 6.197e-03\n",
            "Batch: 60\tloss = 5.549e-03\n",
            "Batch: 70\tloss = 5.802e-03\n",
            "Batch: 80\tloss = 5.501e-03\n",
            "Batch: 90\tloss = 5.048e-03\n",
            "Batch: 100\tloss = 4.201e-03\n"
          ]
        }
      ],
      "source": [
        "losses = []\n",
        "\n",
        "for i in range(100):\n",
        "\n",
        "    X = next(batch_generator)\n",
        "    y_true = X\n",
        "\n",
        "    loss, state = train_on_batch(state, X, y_true)\n",
        "\n",
        "    losses.append(loss)\n",
        "\n",
        "    if (i + 1) % 10 == 0:\n",
        "        print(f\"Batch: {i + 1}\\tloss = {loss:.3e}\")"
      ]
    },
    {
      "cell_type": "markdown",
      "id": "924b2091-7f76-40c6-955d-6bbd6dd03147",
      "metadata": {
        "id": "924b2091-7f76-40c6-955d-6bbd6dd03147"
      },
      "source": [
        "### 4.c) Prediction by trained NN"
      ]
    },
    {
      "cell_type": "code",
      "execution_count": 43,
      "id": "2c3ddeb4-f73d-4dcf-be79-1454e22a59bb",
      "metadata": {
        "id": "2c3ddeb4-f73d-4dcf-be79-1454e22a59bb",
        "outputId": "c8d4a55a-3ea1-409b-d2d2-4e5fdb9254af",
        "colab": {
          "base_uri": "https://localhost:8080/",
          "height": 156
        }
      },
      "outputs": [
        {
          "output_type": "stream",
          "name": "stdout",
          "text": [
            ">>> Predicted images (trained)::\n"
          ]
        },
        {
          "output_type": "display_data",
          "data": {
            "text/plain": [
              "<Figure size 640x480 with 6 Axes>"
            ],
            "image/png": "[encoded data removed]"
          },
          "metadata": {}
        }
      ],
      "source": [
        "X = next(batch_generator)\n",
        "y_true = X\n",
        "\n",
        "y_predicted = predict_on_batch(state, X)\n",
        "\n",
        "plot_images(y_predicted, \"Predicted images (trained):\")"
      ]
    },
    {
      "cell_type": "markdown",
      "id": "4d296906-7f95-4463-896d-d007c73b4cd7",
      "metadata": {
        "id": "4d296906-7f95-4463-896d-d007c73b4cd7"
      },
      "source": [
        "## 5. Conv. autoencoder"
      ]
    },
    {
      "cell_type": "markdown",
      "id": "4b957775-e106-4974-b2ba-3b2d7c8244ad",
      "metadata": {
        "id": "4b957775-e106-4974-b2ba-3b2d7c8244ad"
      },
      "source": [
        "### 5.a) Create the NN setup (repetition)"
      ]
    },
    {
      "cell_type": "code",
      "execution_count": 44,
      "id": "4ffa2bff-b0a7-4032-b16a-510188864554",
      "metadata": {
        "id": "4ffa2bff-b0a7-4032-b16a-510188864554"
      },
      "outputs": [],
      "source": [
        "def up_sample_2d(x, factors):\n",
        "    new_shape = list(x.shape)\n",
        "\n",
        "    new_shape[-3] *= factors[0]\n",
        "    new_shape[-2] *= factors[1]\n",
        "\n",
        "    x = jax.image.resize(x, shape=new_shape, method='bilinear')\n",
        "\n",
        "    return x"
      ]
    },
    {
      "cell_type": "code",
      "execution_count": 45,
      "id": "54948f91-40fe-4df3-b796-5d233d25fe33",
      "metadata": {
        "id": "54948f91-40fe-4df3-b796-5d233d25fe33"
      },
      "outputs": [],
      "source": [
        "class ConvAutoenc(nn.Module):\n",
        "\n",
        "    @nn.compact\n",
        "    def __call__(self, x):\n",
        "        x = nn.Conv(4, (5, 5), padding='same')(x)\n",
        "        x = nn.sigmoid(x)\n",
        "        x = nn.pooling.avg_pool(x, (4, 4), strides=(4, 4))\n",
        "\n",
        "        x = nn.Conv(4, (5, 5), padding='same')(x)\n",
        "        x = nn.sigmoid(x)\n",
        "        x = nn.pooling.avg_pool(x, (2, 2), strides=(2, 2))\n",
        "\n",
        "        x = nn.Conv(1, (3, 3), padding='same')(x)\n",
        "        x = nn.sigmoid(x)\n",
        "\n",
        "        x = up_sample_2d(x, (2, 2))\n",
        "        x = nn.Conv(4, (5, 5), padding='same')(x)\n",
        "        x = nn.sigmoid(x)\n",
        "\n",
        "        x = up_sample_2d(x, (4, 4))\n",
        "        x = nn.Conv(4, (5, 5), padding='same')(x)\n",
        "        x = nn.sigmoid(x)\n",
        "\n",
        "        x = nn.Conv(1, (3, 3), padding='same')(x)\n",
        "\n",
        "        return x"
      ]
    },
    {
      "cell_type": "code",
      "execution_count": 46,
      "id": "4d0f79ec-c287-427b-a0f6-b9e3c92bdaf7",
      "metadata": {
        "id": "4d0f79ec-c287-427b-a0f6-b9e3c92bdaf7"
      },
      "outputs": [],
      "source": [
        "conv_autoenc = ConvAutoenc()\n",
        "\n",
        "dummy_input = jnp.ones(shape=(pix, pix, 1))\n",
        "\n",
        "key, subkey = jax.random.split(key)\n",
        "params = conv_autoenc.init(subkey, dummy_input)[\"params\"]"
      ]
    },
    {
      "cell_type": "code",
      "execution_count": 47,
      "id": "0dde776d-abcb-4a6c-b141-ac0fb0ab876b",
      "metadata": {
        "id": "0dde776d-abcb-4a6c-b141-ac0fb0ab876b",
        "outputId": "cf58ea09-21f5-479d-fcb2-939b81118698",
        "colab": {
          "base_uri": "https://localhost:8080/"
        }
      },
      "outputs": [
        {
          "output_type": "stream",
          "name": "stdout",
          "text": [
            "\n",
            "\u001b[3m                              ConvAutoenc Summary                               \u001b[0m\n",
            "┏━━━━━━━━┳━━━━━━━━━━━━━┳━━━━━━━━━━━━━━━━━━┳━━━━━━━━━━━━━━━━━━┳━━━━━━━━━━━━━━━━━┓\n",
            "┃\u001b[1m \u001b[0m\u001b[1mpath  \u001b[0m\u001b[1m \u001b[0m┃\u001b[1m \u001b[0m\u001b[1mmodule     \u001b[0m\u001b[1m \u001b[0m┃\u001b[1m \u001b[0m\u001b[1minputs          \u001b[0m\u001b[1m \u001b[0m┃\u001b[1m \u001b[0m\u001b[1moutputs         \u001b[0m\u001b[1m \u001b[0m┃\u001b[1m \u001b[0m\u001b[1mparams         \u001b[0m\u001b[1m \u001b[0m┃\n",
            "┡━━━━━━━━╇━━━━━━━━━━━━━╇━━━━━━━━━━━━━━━━━━╇━━━━━━━━━━━━━━━━━━╇━━━━━━━━━━━━━━━━━┩\n",
            "│        │ ConvAutoenc │ \u001b[2mfloat32\u001b[0m[64,64,1] │ \u001b[2mfloat32\u001b[0m[64,64,1] │                 │\n",
            "├────────┼─────────────┼──────────────────┼──────────────────┼─────────────────┤\n",
            "│ Conv_0 │ Conv        │ \u001b[2mfloat32\u001b[0m[64,64,1] │ \u001b[2mfloat32\u001b[0m[64,64,4] │ bias:           │\n",
            "│        │             │                  │                  │ \u001b[2mfloat32\u001b[0m[4]      │\n",
            "│        │             │                  │                  │ kernel:         │\n",
            "│        │             │                  │                  │ \u001b[2mfloat32\u001b[0m[5,5,1,4 │\n",
            "│        │             │                  │                  │ ]               │\n",
            "│        │             │                  │                  │                 │\n",
            "│        │             │                  │                  │ \u001b[1m104 \u001b[0m\u001b[1;2m(416 B)\u001b[0m     │\n",
            "├────────┼─────────────┼──────────────────┼──────────────────┼─────────────────┤\n",
            "│ Conv_1 │ Conv        │ \u001b[2mfloat32\u001b[0m[16,16,4] │ \u001b[2mfloat32\u001b[0m[16,16,4] │ bias:           │\n",
            "│        │             │                  │                  │ \u001b[2mfloat32\u001b[0m[4]      │\n",
            "│        │             │                  │                  │ kernel:         │\n",
            "│        │             │                  │                  │ \u001b[2mfloat32\u001b[0m[5,5,4,4 │\n",
            "│        │             │                  │                  │ ]               │\n",
            "│        │             │                  │                  │                 │\n",
            "│        │             │                  │                  │ \u001b[1m404 \u001b[0m\u001b[1;2m(1.6 KB)\u001b[0m    │\n",
            "├────────┼─────────────┼──────────────────┼──────────────────┼─────────────────┤\n",
            "│ Conv_2 │ Conv        │ \u001b[2mfloat32\u001b[0m[8,8,4]   │ \u001b[2mfloat32\u001b[0m[8,8,1]   │ bias:           │\n",
            "│        │             │                  │                  │ \u001b[2mfloat32\u001b[0m[1]      │\n",
            "│        │             │                  │                  │ kernel:         │\n",
            "│        │             │                  │                  │ \u001b[2mfloat32\u001b[0m[3,3,4,1 │\n",
            "│        │             │                  │                  │ ]               │\n",
            "│        │             │                  │                  │                 │\n",
            "│        │             │                  │                  │ \u001b[1m37 \u001b[0m\u001b[1;2m(148 B)\u001b[0m      │\n",
            "├────────┼─────────────┼──────────────────┼──────────────────┼─────────────────┤\n",
            "│ Conv_3 │ Conv        │ \u001b[2mfloat32\u001b[0m[16,16,1] │ \u001b[2mfloat32\u001b[0m[16,16,4] │ bias:           │\n",
            "│        │             │                  │                  │ \u001b[2mfloat32\u001b[0m[4]      │\n",
            "│        │             │                  │                  │ kernel:         │\n",
            "│        │             │                  │                  │ \u001b[2mfloat32\u001b[0m[5,5,1,4 │\n",
            "│        │             │                  │                  │ ]               │\n",
            "│        │             │                  │                  │                 │\n",
            "│        │             │                  │                  │ \u001b[1m104 \u001b[0m\u001b[1;2m(416 B)\u001b[0m     │\n",
            "├────────┼─────────────┼──────────────────┼──────────────────┼─────────────────┤\n",
            "│ Conv_4 │ Conv        │ \u001b[2mfloat32\u001b[0m[64,64,4] │ \u001b[2mfloat32\u001b[0m[64,64,4] │ bias:           │\n",
            "│        │             │                  │                  │ \u001b[2mfloat32\u001b[0m[4]      │\n",
            "│        │             │                  │                  │ kernel:         │\n",
            "│        │             │                  │                  │ \u001b[2mfloat32\u001b[0m[5,5,4,4 │\n",
            "│        │             │                  │                  │ ]               │\n",
            "│        │             │                  │                  │                 │\n",
            "│        │             │                  │                  │ \u001b[1m404 \u001b[0m\u001b[1;2m(1.6 KB)\u001b[0m    │\n",
            "├────────┼─────────────┼──────────────────┼──────────────────┼─────────────────┤\n",
            "│ Conv_5 │ Conv        │ \u001b[2mfloat32\u001b[0m[64,64,4] │ \u001b[2mfloat32\u001b[0m[64,64,1] │ bias:           │\n",
            "│        │             │                  │                  │ \u001b[2mfloat32\u001b[0m[1]      │\n",
            "│        │             │                  │                  │ kernel:         │\n",
            "│        │             │                  │                  │ \u001b[2mfloat32\u001b[0m[3,3,4,1 │\n",
            "│        │             │                  │                  │ ]               │\n",
            "│        │             │                  │                  │                 │\n",
            "│        │             │                  │                  │ \u001b[1m37 \u001b[0m\u001b[1;2m(148 B)\u001b[0m      │\n",
            "├────────┼─────────────┼──────────────────┼──────────────────┼─────────────────┤\n",
            "│\u001b[1m \u001b[0m\u001b[1m      \u001b[0m\u001b[1m \u001b[0m│\u001b[1m \u001b[0m\u001b[1m           \u001b[0m\u001b[1m \u001b[0m│\u001b[1m \u001b[0m\u001b[1m                \u001b[0m\u001b[1m \u001b[0m│\u001b[1m \u001b[0m\u001b[1m           Total\u001b[0m\u001b[1m \u001b[0m│\u001b[1m \u001b[0m\u001b[1m1,090 \u001b[0m\u001b[1;2m(4.4 KB)\u001b[0m\u001b[1m \u001b[0m\u001b[1m \u001b[0m│\n",
            "└────────┴─────────────┴──────────────────┴──────────────────┴─────────────────┘\n",
            "\u001b[1m                                                                                \u001b[0m\n",
            "\u001b[1m                        Total Parameters: 1,090 \u001b[0m\u001b[1;2m(4.4 KB)\u001b[0m\u001b[1m                        \u001b[0m\n",
            "\n",
            "\n"
          ]
        }
      ],
      "source": [
        "column_params = dict(overflow=\"fold\")\n",
        "\n",
        "table = conv_autoenc.tabulate(jax.random.key(0), dummy_input, column_kwargs=column_params)\n",
        "\n",
        "print( table )"
      ]
    },
    {
      "cell_type": "code",
      "execution_count": 48,
      "id": "e666c94b-5084-4394-91a7-26848898c65f",
      "metadata": {
        "id": "e666c94b-5084-4394-91a7-26848898c65f"
      },
      "outputs": [],
      "source": [
        "optimizer = optax.adam(learning_rate=0.005)"
      ]
    },
    {
      "cell_type": "code",
      "execution_count": 49,
      "id": "ed96fa3f-94fb-4425-9697-3f8edc87294f",
      "metadata": {
        "id": "ed96fa3f-94fb-4425-9697-3f8edc87294f"
      },
      "outputs": [],
      "source": [
        "state = TrainState.create(apply_fn=conv_autoenc.apply, params=params, tx=optimizer)"
      ]
    },
    {
      "cell_type": "markdown",
      "id": "3b4e7757-f5a8-4d48-9817-cc98a821d25c",
      "metadata": {
        "id": "3b4e7757-f5a8-4d48-9817-cc98a821d25c"
      },
      "source": [
        "### 5.b) Training"
      ]
    },
    {
      "cell_type": "code",
      "execution_count": 50,
      "id": "b5da143d-eadd-4d72-9b60-911409d8d17c",
      "metadata": {
        "id": "b5da143d-eadd-4d72-9b60-911409d8d17c"
      },
      "outputs": [],
      "source": [
        "losses = []"
      ]
    },
    {
      "cell_type": "code",
      "execution_count": 51,
      "id": "d47f867d-464c-4363-8d3f-951e648a8da5",
      "metadata": {
        "id": "d47f867d-464c-4363-8d3f-951e648a8da5",
        "outputId": "30142038-5716-4770-f890-7cd421612ae8",
        "colab": {
          "base_uri": "https://localhost:8080/"
        }
      },
      "outputs": [
        {
          "output_type": "stream",
          "name": "stdout",
          "text": [
            "Batch: 100\tloss = 3.001e-02\n",
            "Batch: 200\tloss = 1.930e-02\n",
            "Batch: 300\tloss = 1.592e-02\n",
            "Batch: 400\tloss = 1.294e-02\n",
            "Batch: 500\tloss = 1.120e-02\n",
            "Batch: 600\tloss = 9.123e-03\n",
            "Batch: 700\tloss = 8.342e-03\n",
            "Batch: 800\tloss = 7.227e-03\n",
            "Batch: 900\tloss = 5.119e-03\n",
            "Batch: 1000\tloss = 5.367e-03\n",
            "Batch: 1100\tloss = 4.654e-03\n",
            "Batch: 1200\tloss = 4.699e-03\n",
            "Batch: 1300\tloss = 4.542e-03\n",
            "Batch: 1400\tloss = 3.729e-03\n",
            "Batch: 1500\tloss = 4.295e-03\n",
            "Batch: 1600\tloss = 3.324e-03\n",
            "Batch: 1700\tloss = 3.977e-03\n",
            "Batch: 1800\tloss = 3.254e-03\n",
            "Batch: 1900\tloss = 3.295e-03\n",
            "Batch: 2000\tloss = 3.531e-03\n"
          ]
        }
      ],
      "source": [
        "for i in range(2000):\n",
        "\n",
        "    X = next(batch_generator)\n",
        "    y_true = X\n",
        "\n",
        "    loss, state = train_on_batch(state, X, y_true)\n",
        "\n",
        "    losses.append(loss)\n",
        "\n",
        "    if (i + 1) % 100 == 0:\n",
        "        print(f\"Batch: {i + 1}\\tloss = {loss:.3e}\")"
      ]
    },
    {
      "cell_type": "code",
      "execution_count": 52,
      "id": "b7c9d548-7d6f-4c8f-b1ae-0a72ec417212",
      "metadata": {
        "id": "b7c9d548-7d6f-4c8f-b1ae-0a72ec417212",
        "outputId": "78939a1c-8922-45a7-e268-80772f4218b5",
        "colab": {
          "base_uri": "https://localhost:8080/",
          "height": 311
        }
      },
      "outputs": [
        {
          "output_type": "display_data",
          "data": {
            "text/plain": [
              "<Figure size 500x300 with 1 Axes>"
            ],
            "image/png": "[encoded data removed]"
          },
          "metadata": {}
        }
      ],
      "source": [
        "fig, ax = plt.subplots(figsize=(5, 3))\n",
        "\n",
        "ax.plot(losses);\n",
        "ax.set_yscale(\"log\");\n",
        "\n",
        "ax.set_xlabel(\"Batch\");\n",
        "ax.set_ylabel(\"Loss\");"
      ]
    },
    {
      "cell_type": "markdown",
      "id": "2384aed8-1316-4884-977a-6802a60e3e5a",
      "metadata": {
        "id": "2384aed8-1316-4884-977a-6802a60e3e5a"
      },
      "source": [
        "### 5.c) Visualization of reproduced images"
      ]
    },
    {
      "cell_type": "code",
      "execution_count": 53,
      "id": "b1c75faa-21a9-4cb2-804c-497b1f3996c4",
      "metadata": {
        "id": "b1c75faa-21a9-4cb2-804c-497b1f3996c4"
      },
      "outputs": [],
      "source": [
        "X = next(batch_generator)\n",
        "y_true = X\n",
        "\n",
        "y_predicted = predict_on_batch(state, X)"
      ]
    },
    {
      "cell_type": "code",
      "execution_count": 67,
      "id": "f5b71b1f-e4e9-47ea-b782-0eb84c843d9e",
      "metadata": {
        "id": "f5b71b1f-e4e9-47ea-b782-0eb84c843d9e",
        "outputId": "9399739e-20bd-4732-e844-f771fdbc2068",
        "colab": {
          "base_uri": "https://localhost:8080/",
          "height": 167
        }
      },
      "outputs": [
        {
          "output_type": "stream",
          "name": "stdout",
          "text": [
            ">>> True images:\n"
          ]
        },
        {
          "output_type": "display_data",
          "data": {
            "text/plain": [
              "<Figure size 640x480 with 6 Axes>"
            ],
            "image/png": "[encoded data removed]"
          },
          "metadata": {}
        }
      ],
      "source": [
        "plot_images(y_true, \"True images\")"
      ]
    },
    {
      "cell_type": "code",
      "execution_count": 55,
      "id": "7aa8d7de-e099-4ada-a57a-ccb9346436f4",
      "metadata": {
        "id": "7aa8d7de-e099-4ada-a57a-ccb9346436f4",
        "outputId": "e1b19db3-a2bc-4205-a0a3-efed99382026",
        "colab": {
          "base_uri": "https://localhost:8080/",
          "height": 153
        }
      },
      "outputs": [
        {
          "output_type": "stream",
          "name": "stdout",
          "text": [
            ">>> Predicted images (trained)::\n"
          ]
        },
        {
          "output_type": "display_data",
          "data": {
            "text/plain": [
              "<Figure size 640x480 with 6 Axes>"
            ],
            "image/png": "[encoded data removed]"
          },
          "metadata": {}
        }
      ],
      "source": [
        "plot_images(y_predicted, \"Predicted images (trained):\")"
      ]
    },
    {
      "cell_type": "markdown",
      "id": "e8f55db0-eb08-4e21-994c-220547930853",
      "metadata": {
        "id": "e8f55db0-eb08-4e21-994c-220547930853"
      },
      "source": [
        "### 5.d) Visualization of encoded images"
      ]
    },
    {
      "cell_type": "code",
      "execution_count": 72,
      "id": "de10b072-949a-45cd-a415-9a2baede34e0",
      "metadata": {
        "id": "de10b072-949a-45cd-a415-9a2baede34e0"
      },
      "outputs": [],
      "source": [
        "class Encoder(nn.Module):\n",
        "\n",
        "    @nn.compact\n",
        "    def __call__(self, x):\n",
        "\n",
        "        x = nn.Conv(4, (5, 5), padding='same')(x)\n",
        "        x = nn.sigmoid(x)\n",
        "        x = nn.pooling.avg_pool(x, (4, 4), strides=(4, 4))\n",
        "\n",
        "        x = nn.Conv(4, (5, 5), padding='same')(x)\n",
        "        x = nn.sigmoid(x)\n",
        "        x = nn.pooling.avg_pool(x, (2, 2), strides=(2, 2))\n",
        "\n",
        "        x = nn.Conv(1, (3, 3), padding='same')(x)\n",
        "        x = nn.sigmoid(x)\n",
        "\n",
        "        return x\n",
        "\n",
        "encoder = Encoder()"
      ]
    },
    {
      "cell_type": "code",
      "execution_count": 73,
      "id": "eb2bacd5-c51c-4d44-a0ac-3580f5007a47",
      "metadata": {
        "id": "eb2bacd5-c51c-4d44-a0ac-3580f5007a47",
        "outputId": "ee4d3d87-376c-4b2a-cc8f-7d25753829b7",
        "colab": {
          "base_uri": "https://localhost:8080/"
        }
      },
      "outputs": [
        {
          "output_type": "stream",
          "name": "stdout",
          "text": [
            "\n",
            "\u001b[3m                                Encoder Summary                                 \u001b[0m\n",
            "┏━━━━━━━━┳━━━━━━━━━┳━━━━━━━━━━━━━━━━━━┳━━━━━━━━━━━━━━━━━━┳━━━━━━━━━━━━━━━━━━━━━┓\n",
            "┃\u001b[1m \u001b[0m\u001b[1mpath  \u001b[0m\u001b[1m \u001b[0m┃\u001b[1m \u001b[0m\u001b[1mmodule \u001b[0m\u001b[1m \u001b[0m┃\u001b[1m \u001b[0m\u001b[1minputs          \u001b[0m\u001b[1m \u001b[0m┃\u001b[1m \u001b[0m\u001b[1moutputs         \u001b[0m\u001b[1m \u001b[0m┃\u001b[1m \u001b[0m\u001b[1mparams             \u001b[0m\u001b[1m \u001b[0m┃\n",
            "┡━━━━━━━━╇━━━━━━━━━╇━━━━━━━━━━━━━━━━━━╇━━━━━━━━━━━━━━━━━━╇━━━━━━━━━━━━━━━━━━━━━┩\n",
            "│        │ Encoder │ \u001b[2mfloat32\u001b[0m[64,64,1] │ \u001b[2mfloat32\u001b[0m[8,8,1]   │                     │\n",
            "├────────┼─────────┼──────────────────┼──────────────────┼─────────────────────┤\n",
            "│ Conv_0 │ Conv    │ \u001b[2mfloat32\u001b[0m[64,64,1] │ \u001b[2mfloat32\u001b[0m[64,64,4] │ bias: \u001b[2mfloat32\u001b[0m[4]    │\n",
            "│        │         │                  │                  │ kernel:             │\n",
            "│        │         │                  │                  │ \u001b[2mfloat32\u001b[0m[5,5,1,4]    │\n",
            "│        │         │                  │                  │                     │\n",
            "│        │         │                  │                  │ \u001b[1m104 \u001b[0m\u001b[1;2m(416 B)\u001b[0m         │\n",
            "├────────┼─────────┼──────────────────┼──────────────────┼─────────────────────┤\n",
            "│ Conv_1 │ Conv    │ \u001b[2mfloat32\u001b[0m[16,16,4] │ \u001b[2mfloat32\u001b[0m[16,16,4] │ bias: \u001b[2mfloat32\u001b[0m[4]    │\n",
            "│        │         │                  │                  │ kernel:             │\n",
            "│        │         │                  │                  │ \u001b[2mfloat32\u001b[0m[5,5,4,4]    │\n",
            "│        │         │                  │                  │                     │\n",
            "│        │         │                  │                  │ \u001b[1m404 \u001b[0m\u001b[1;2m(1.6 KB)\u001b[0m        │\n",
            "├────────┼─────────┼──────────────────┼──────────────────┼─────────────────────┤\n",
            "│ Conv_2 │ Conv    │ \u001b[2mfloat32\u001b[0m[8,8,4]   │ \u001b[2mfloat32\u001b[0m[8,8,1]   │ bias: \u001b[2mfloat32\u001b[0m[1]    │\n",
            "│        │         │                  │                  │ kernel:             │\n",
            "│        │         │                  │                  │ \u001b[2mfloat32\u001b[0m[3,3,4,1]    │\n",
            "│        │         │                  │                  │                     │\n",
            "│        │         │                  │                  │ \u001b[1m37 \u001b[0m\u001b[1;2m(148 B)\u001b[0m          │\n",
            "├────────┼─────────┼──────────────────┼──────────────────┼─────────────────────┤\n",
            "│\u001b[1m \u001b[0m\u001b[1m      \u001b[0m\u001b[1m \u001b[0m│\u001b[1m \u001b[0m\u001b[1m       \u001b[0m\u001b[1m \u001b[0m│\u001b[1m \u001b[0m\u001b[1m                \u001b[0m\u001b[1m \u001b[0m│\u001b[1m \u001b[0m\u001b[1m           Total\u001b[0m\u001b[1m \u001b[0m│\u001b[1m \u001b[0m\u001b[1m545 \u001b[0m\u001b[1;2m(2.2 KB)\u001b[0m\u001b[1m       \u001b[0m\u001b[1m \u001b[0m│\n",
            "└────────┴─────────┴──────────────────┴──────────────────┴─────────────────────┘\n",
            "\u001b[1m                                                                                \u001b[0m\n",
            "\u001b[1m                         Total Parameters: 545 \u001b[0m\u001b[1;2m(2.2 KB)\u001b[0m\u001b[1m                         \u001b[0m\n",
            "\n",
            "\n"
          ]
        }
      ],
      "source": [
        "column_params = dict(overflow=\"fold\")\n",
        "dummy_input = jnp.ones(shape=(pix, pix, 1))\n",
        "table = encoder.tabulate(jax.random.key(0), dummy_input, column_kwargs=column_params)\n",
        "print( table )"
      ]
    },
    {
      "cell_type": "code",
      "execution_count": 74,
      "id": "34e285c2-99c2-40a7-a847-35fd81867439",
      "metadata": {
        "id": "34e285c2-99c2-40a7-a847-35fd81867439"
      },
      "outputs": [],
      "source": [
        "params_enc = {key: value for key, value in state.params.items() if int(key[-1]) < 3}"
      ]
    },
    {
      "cell_type": "code",
      "execution_count": 75,
      "id": "3a647173-fe6d-4adf-b0e9-8699db7dd3e3",
      "metadata": {
        "id": "3a647173-fe6d-4adf-b0e9-8699db7dd3e3"
      },
      "outputs": [],
      "source": [
        "encoded_img = encoder.apply({'params': params_enc}, X)"
      ]
    },
    {
      "cell_type": "code",
      "execution_count": 76,
      "id": "6760ee4b-30df-42ef-bde7-cc17f1c9c200",
      "metadata": {
        "id": "6760ee4b-30df-42ef-bde7-cc17f1c9c200",
        "outputId": "075e3b46-cfb3-41ce-ab13-caab605f4886",
        "colab": {
          "base_uri": "https://localhost:8080/",
          "height": 158
        }
      },
      "outputs": [
        {
          "output_type": "stream",
          "name": "stdout",
          "text": [
            ">>> Encoded images:\n"
          ]
        },
        {
          "output_type": "display_data",
          "data": {
            "text/plain": [
              "<Figure size 640x480 with 6 Axes>"
            ],
            "image/png": "[encoded data removed]"
          },
          "metadata": {}
        }
      ],
      "source": [
        "plot_images(encoded_img, \"Encoded images\")"
      ]
    },
    {
      "cell_type": "code",
      "execution_count": null,
      "id": "82146263-8e73-4bce-a534-6ed5e07faf62",
      "metadata": {
        "id": "82146263-8e73-4bce-a534-6ed5e07faf62"
      },
      "outputs": [],
      "source": []
    },
    {
      "cell_type": "code",
      "execution_count": null,
      "id": "550a61c8-85ca-4996-968d-77b2d3592106",
      "metadata": {
        "id": "550a61c8-85ca-4996-968d-77b2d3592106"
      },
      "outputs": [],
      "source": []
    }
  ],
  "metadata": {
    "kernelspec": {
      "display_name": "Python 3 (ipykernel)",
      "language": "python",
      "name": "python3"
    },
    "language_info": {
      "codemirror_mode": {
        "name": "ipython",
        "version": 3
      },
      "file_extension": ".py",
      "mimetype": "text/x-python",
      "name": "python",
      "nbconvert_exporter": "python",
      "pygments_lexer": "ipython3",
      "version": "3.10.9"
    },
    "colab": {
      "provenance": []
    }
  },
  "nbformat": 4,
  "nbformat_minor": 5
}